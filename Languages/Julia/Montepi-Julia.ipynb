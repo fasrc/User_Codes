{
 "cells": [
  {
   "cell_type": "markdown",
   "id": "a4575346-5fe0-42f3-996e-2f9edb9cc0bb",
   "metadata": {},
   "source": [
    "### Purpose:\n",
    "Calculate PI via Monte-Carlo method in Julia using Jupyter notebook."
   ]
  },
  {
   "cell_type": "code",
   "execution_count": 1,
   "id": "b7c4fbb0-2430-49dc-acda-b56d27171cda",
   "metadata": {},
   "outputs": [
    {
     "data": {
      "text/plain": [
       "montepi (generic function with 1 method)"
      ]
     },
     "execution_count": 1,
     "metadata": {},
     "output_type": "execute_result"
    }
   ],
   "source": [
    "function montepi(n::Int)\n",
    "   R = 1.0\n",
    "   s = 0\n",
    "   for i = 1: n\n",
    "      x = R * rand()\n",
    "      y = R * rand()\n",
    "      if x^2 + y^2 <= R^2\n",
    "         s = s + 1\n",
    "      end\n",
    "   end\n",
    "   return 4.0*s/n\n",
    "end"
   ]
  },
  {
   "cell_type": "code",
   "execution_count": 2,
   "id": "70b0039f-14ec-4d0b-98c4-3372c5eabf3b",
   "metadata": {},
   "outputs": [
    {
     "name": "stdout",
     "output_type": "stream",
     "text": [
      "N = 1000: PI = 3.128\n",
      "N = 10000: PI = 3.118\n",
      "N = 100000: PI = 3.13784\n",
      "N = 1000000: PI = 3.14168\n",
      "N = 10000000: PI = 3.1419344\n",
      "N = 100000000: PI = 3.14154836\n"
     ]
    }
   ],
   "source": [
    "# Main program\n",
    "for i in 3: 8\n",
    "    n = 10^i\n",
    "    p = montepi(n)\n",
    "    println(\"N = $n: PI = $p\")\n",
    "end"
   ]
  },
  {
   "cell_type": "code",
   "execution_count": null,
   "id": "a4e765d5-dd93-4d72-96e9-e782692d68b6",
   "metadata": {},
   "outputs": [],
   "source": []
  }
 ],
 "metadata": {
  "kernelspec": {
   "display_name": "Julia 1.10.5",
   "language": "julia",
   "name": "julia-1.10"
  },
  "language_info": {
   "file_extension": ".jl",
   "mimetype": "application/julia",
   "name": "julia",
   "version": "1.10.5"
  }
 },
 "nbformat": 4,
 "nbformat_minor": 5
}
